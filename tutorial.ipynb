{
 "cells": [
  {
   "cell_type": "code",
   "execution_count": 14,
   "id": "5e64dea2-d06e-4ea2-b7c3-1587c1544060",
   "metadata": {},
   "outputs": [
    {
     "name": "stdout",
     "output_type": "stream",
     "text": [
      "[1, 2, 3, 5, 7, 8, 13, 15, 20, 23, 29]\n"
     ]
    }
   ],
   "source": [
    "def quicksort(arr):\n",
    "    if len(arr) <= 1:\n",
    "        return arr\n",
    "    pivot = arr[len(arr) // 2]\n",
    "    left = [ x for x in arr if x < pivot ]\n",
    "    right = [ x for x in arr if x > pivot ]\n",
    "    middle = [ x for x in arr if x == pivot ]\n",
    "    return quicksort(left) + middle + quicksort(right)\n",
    "arr = quicksort([7,2,1,8,23,3,5,29,13,15,20])\n",
    "print(arr)"
   ]
  },
  {
   "cell_type": "code",
   "execution_count": 27,
   "id": "ebdf9eff-7f18-4e54-81c2-f59b198c0b44",
   "metadata": {},
   "outputs": [
    {
     "data": {
      "text/plain": [
       "[0, 4, 16, 36, 64, 100]"
      ]
     },
     "execution_count": 27,
     "metadata": {},
     "output_type": "execute_result"
    }
   ],
   "source": [
    "# Lists in Python - List comprehensions\n",
    "\n",
    "squares = [ x**2 for x in range(len(arr)) ]\n",
    "even_squares = [ x ** 2 for x in range(len(arr)) if x % 2 == 0 ]\n",
    "even_squares\n",
    "                "
   ]
  },
  {
   "cell_type": "code",
   "execution_count": 25,
   "id": "60d59ae4-9618-4260-a8ab-ad6c51bfb00e",
   "metadata": {},
   "outputs": [
    {
     "name": "stdout",
     "output_type": "stream",
     "text": [
      "(1, 0)\n",
      "(2, 1)\n",
      "(3, 4)\n",
      "(5, 9)\n",
      "(7, 16)\n",
      "(8, 25)\n",
      "(13, 36)\n",
      "(15, 49)\n",
      "(20, 64)\n",
      "(23, 81)\n",
      "(29, 100)\n"
     ]
    }
   ],
   "source": [
    "pairs = zip(arr, squares)\n",
    "for p in pairs: \n",
    "    print(p)"
   ]
  },
  {
   "cell_type": "code",
   "execution_count": 36,
   "id": "4ffa67cf-6fad-4cec-9dab-2825fa95a0d7",
   "metadata": {},
   "outputs": [
    {
     "name": "stdout",
     "output_type": "stream",
     "text": [
      "#0 : train\n",
      "#1 : horse\n",
      "#2 : dog\n",
      "#3 : bicycle\n",
      "#4 : ostrich\n",
      "#5 : car\n",
      "False\n",
      "True\n",
      "{'ostrich', 'fish', 'horse', 'dog'}\n"
     ]
    },
    {
     "data": {
      "text/plain": [
       "{0, 1, 2, 3, 4, 5}"
      ]
     },
     "execution_count": 36,
     "metadata": {},
     "output_type": "execute_result"
    }
   ],
   "source": [
    "# Sets in Python - Set comprehensions\n",
    "\n",
    "labels = { 'car', 'horse', 'dog', 'bicycle', 'train', 'ostrich' }\n",
    "for idx, label in enumerate(labels):\n",
    "    print( f'#{idx} : {label}')\n",
    "print( 'fish' in labels )\n",
    "labels.add('fish')\n",
    "print( 'fish' in labels )\n",
    "\n",
    "animals = { 'cat', 'dog', 'horse', 'zebra', 'emu', 'shark', 'seal', 'parrot', 'fish' , 'ostrich' }\n",
    "\n",
    "animal_label = { x for x in labels if x in animals }\n",
    "print(animal_label)\n",
    "\n",
    "import math\n",
    "sqrts = { int(math.sqrt(x)) for x in range(30) }\n",
    "sqrts"
   ]
  },
  {
   "cell_type": "code",
   "execution_count": 52,
   "id": "5dc69d9e-71a3-4bf5-b577-9531ba4aa749",
   "metadata": {},
   "outputs": [
    {
     "data": {
      "text/plain": [
       "True"
      ]
     },
     "execution_count": 52,
     "metadata": {},
     "output_type": "execute_result"
    }
   ],
   "source": [
    "# tuples in Python - immutable ordered list of values that can be used as keys in dictionaries and as elements in sets.\n",
    "t = { (x, x + step) for x in range(20) for step in range(5) }\n",
    "item = (19,23)\n",
    "item in t"
   ]
  },
  {
   "cell_type": "code",
   "execution_count": null,
   "id": "65f018a9-f218-4258-90c9-4830bc524ef8",
   "metadata": {},
   "outputs": [],
   "source": []
  }
 ],
 "metadata": {
  "kernelspec": {
   "display_name": "Python 3 (ipykernel)",
   "language": "python",
   "name": "python3"
  },
  "language_info": {
   "codemirror_mode": {
    "name": "ipython",
    "version": 3
   },
   "file_extension": ".py",
   "mimetype": "text/x-python",
   "name": "python",
   "nbconvert_exporter": "python",
   "pygments_lexer": "ipython3",
   "version": "3.8.2"
  }
 },
 "nbformat": 4,
 "nbformat_minor": 5
}
