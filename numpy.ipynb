{
 "cells": [
  {
   "cell_type": "code",
   "execution_count": 1,
   "id": "190b632b-9fc6-4631-8248-9f447bcfac87",
   "metadata": {},
   "outputs": [],
   "source": [
    "import numpy as np\n"
   ]
  },
  {
   "cell_type": "code",
   "execution_count": null,
   "id": "8725f90a-73ad-4e0a-a927-ff4e8689745f",
   "metadata": {},
   "outputs": [],
   "source": []
  },
  {
   "cell_type": "code",
   "execution_count": null,
   "id": "f8592397-a699-4a3d-84ab-62e178de4ff3",
   "metadata": {},
   "outputs": [],
   "source": []
  },
  {
   "cell_type": "code",
   "execution_count": 30,
   "id": "640451e3-580c-4e46-86e4-c8265de5a41c",
   "metadata": {},
   "outputs": [
    {
     "name": "stdout",
     "output_type": "stream",
     "text": [
      "<class 'numpy.ndarray'>\n",
      "(3,)\n",
      "1 2 3\n",
      "[5 2 3]\n",
      "(2, 3)\n",
      "1 2 4\n"
     ]
    }
   ],
   "source": [
    "\n",
    "\n",
    "a = np.array([1, 2, 3])   # Create a rank 1 array\n",
    "print(type(a))            # Prints \"<class 'numpy.ndarray'>\"\n",
    "print(a.shape)            # Prints \"(3,)\"\n",
    "print(a[0], a[1], a[2])   # Prints \"1 2 3\"\n",
    "a[0] = 5                  # Change an element of the array\n",
    "print(a)                  # Prints \"[5, 2, 3]\"\n",
    "\n",
    "b = np.array([[1,2,3],[4,5,6]])    # Create a rank 2 array\n",
    "print(b.shape)                     # Prints \"(2, 3)\"\n",
    "print(b[0, 0], b[0, 1], b[1, 0])   # Prints \"1 2 4\""
   ]
  },
  {
   "cell_type": "code",
   "execution_count": 31,
   "id": "f6db11a5-27d5-4fc2-8132-678e7e753877",
   "metadata": {},
   "outputs": [
    {
     "name": "stdout",
     "output_type": "stream",
     "text": [
      "[[0. 0.]\n",
      " [0. 0.]]\n",
      "[[1. 1.]]\n",
      "[[7 7]\n",
      " [7 7]]\n",
      "[[1. 0.]\n",
      " [0. 1.]]\n",
      "[[0.86216682 0.5104971 ]\n",
      " [0.10891651 0.64185559]]\n"
     ]
    }
   ],
   "source": [
    "a = np.zeros((2,2))   # Create an array of all zeros\n",
    "print(a)              # Prints \"[[ 0.  0.]\n",
    "                      #          [ 0.  0.]]\"\n",
    "\n",
    "b = np.ones((1,2))    # Create an array of all ones\n",
    "print(b)              # Prints \"[[ 1.  1.]]\"\n",
    "\n",
    "c = np.full((2,2), 7)  # Create a constant array\n",
    "print(c)               # Prints \"[[ 7.  7.]\n",
    "                       #          [ 7.  7.]]\"\n",
    "\n",
    "d = np.eye(2)         # Create a 2x2 identity matrix\n",
    "print(d)              # Prints \"[[ 1.  0.]\n",
    "                      #          [ 0.  1.]]\"\n",
    "\n",
    "e = np.random.random((2,2))  # Create an array filled with random values\n",
    "print(e)"
   ]
  },
  {
   "cell_type": "code",
   "execution_count": 29,
   "id": "c231b662-5f90-47b5-9e1b-c0ab26daa5a3",
   "metadata": {},
   "outputs": [
    {
     "name": "stdout",
     "output_type": "stream",
     "text": [
      "Training complete - L2 Error: 0.0041333249264481255\n"
     ]
    },
    {
     "data": {
      "text/plain": [
       "(array([[1, 1, 0],\n",
       "        [0, 1, 0],\n",
       "        [1, 0, 0],\n",
       "        [0, 0, 0],\n",
       "        [0, 0, 1],\n",
       "        [0, 1, 1],\n",
       "        [1, 0, 1],\n",
       "        [1, 1, 1]]),\n",
       " array([[0.],\n",
       "        [1.],\n",
       "        [1.],\n",
       "        [0.],\n",
       "        [0.],\n",
       "        [1.],\n",
       "        [1.],\n",
       "        [0.]]))"
      ]
     },
     "execution_count": 29,
     "metadata": {},
     "output_type": "execute_result"
    }
   ],
   "source": [
    "# Example of simple backpropagation code implemented in numpy\n",
    "def sigmoid(x, deriv=False):\n",
    "    return  x*(1-x) if (deriv) else 1/(1+np.exp(-x))\n",
    "\n",
    "X = np.array([ [0,0,1],[0,1,1],[1,0,1],[1,1,1] ])\n",
    "y = np.array([[0,1,1,0]]).T\n",
    "np.random.seed(137)\n",
    "\n",
    "\n",
    "W0 = 2 * np.random.random((3,4)) - 1\n",
    "W1 = 2 * np.random.random((4,1)) - 1\n",
    "for i in range(90000):\n",
    "    l1 = sigmoid(np.dot(X, W0))\n",
    "    l2 = sigmoid(np.dot(l1, W1))\n",
    "    l2_delta = (y - l2) * sigmoid(l2, deriv=True)\n",
    "    l1_delta = l2_delta.dot(W1.T) * sigmoid(l1, deriv=True)\n",
    "    W1 += l1.T.dot(l2_delta)\n",
    "    W0 += X.T.dot(l1_delta)\n",
    "\n",
    "print(f'Training complete - L2 Error: {str(np.mean(np.abs(l2_error)))}')\n",
    "X_prime = np.array([ [1,1,0],[0,1,0],[1,0,0],[0,0,0],[0,0,1],[0,1,1],[1,0,1],[1,1,1] ])\n",
    "y_prime = sigmoid(np.dot(sigmoid(np.dot(X_prime, W0)), W1))\n",
    "X_prime, np.rint(y_prime)"
   ]
  },
  {
   "cell_type": "code",
   "execution_count": 7,
   "id": "dfb869d8-f121-4acf-bbfb-f736a5e32214",
   "metadata": {},
   "outputs": [
    {
     "data": {
      "text/plain": [
       "dict_keys([b'batch_label', b'labels', b'data', b'filenames'])"
      ]
     },
     "execution_count": 7,
     "metadata": {},
     "output_type": "execute_result"
    }
   ],
   "source": [
    "# Example of CIFAR10 data load\n",
    "import pickle\n",
    "def unpickle(file):\n",
    "    with open(file, 'rb') as fo:\n",
    "        dict = pickle.load(fo, encoding='bytes')\n",
    "    return dict\n",
    "\n",
    "file_path = './cifar-10-batches-py/data_batch_1'\n",
    "data_batch_1 = unpickle(file_path)\n",
    "assert(type(data_batch_1) == dict)\n",
    "data_batch_1.keys()"
   ]
  },
  {
   "cell_type": "code",
   "execution_count": null,
   "id": "ef6f12cf-6416-4e24-963d-7e37740681f9",
   "metadata": {},
   "outputs": [],
   "source": []
  }
 ],
 "metadata": {
  "kernelspec": {
   "display_name": "Python 3 (ipykernel)",
   "language": "python",
   "name": "python3"
  },
  "language_info": {
   "codemirror_mode": {
    "name": "ipython",
    "version": 3
   },
   "file_extension": ".py",
   "mimetype": "text/x-python",
   "name": "python",
   "nbconvert_exporter": "python",
   "pygments_lexer": "ipython3",
   "version": "3.8.2"
  }
 },
 "nbformat": 4,
 "nbformat_minor": 5
}
